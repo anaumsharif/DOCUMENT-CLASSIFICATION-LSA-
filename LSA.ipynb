{
 "cells": [
  {
   "cell_type": "code",
   "execution_count": 10,
   "id": "60ebde32-dbfa-4a30-8920-a71e01beff1a",
   "metadata": {},
   "outputs": [],
   "source": [
    "\n",
    "# data = open(path, 'r').read()\n",
    "doc1 = open(\"business_10.txt\").read()\n",
    "doc2 = open(\"entertainment_1.txt\").read()\n",
    "doc3 = open(\"business_14.txt\").read()\n",
    "doc4 = open(\"medical_1.txt\").read()\n",
    "doc5= open(\"medical_289.txt\").read()\n",
    "doc6 = open(\"entertainment_26.txt\").read()\n",
    "\n",
    "\n"
   ]
  },
  {
   "cell_type": "code",
   "execution_count": 11,
   "id": "1845c2cd-efb9-4d78-9f37-c60a0fb5e1a1",
   "metadata": {},
   "outputs": [],
   "source": [
    "docs = [doc1, doc2, doc3, doc4, doc5,doc6]"
   ]
  },
  {
   "cell_type": "code",
   "execution_count": 12,
   "id": "b7b279b9-3615-4133-a5cf-5463d5e5b6aa",
   "metadata": {},
   "outputs": [
    {
     "data": {
      "text/plain": [
       "['Winn-Dixie files for bankruptcy\\n\\nUS supermarket group Winn-Dixie has filed for bankruptcy protection after succumbing to stiff competition in a market dominated by Wal-Mart.\\n\\nWinn-Dixie, once among the most profitable of US grocers, said Chapter 11 protection would enable it to successfully restructure. It said its 920 stores would remain open, but analysts said it would most likely off-load a number of sites. The Jacksonville, Florida-based firm has total debts of $1.87bn (Â£980m). In its bankruptcy petition it listed its biggest creditor as US foods giant Kraft Foods, which it owes $15.1m.\\n\\nAnalysts say Winn-Dixie had not kept up with consumers\\' demands and had also been burdened by a number of stores in need of upgrading. A 10-month restructuring plan was deemed a failure, and following a larger-than-expected quarterly loss earlier this month, Winn-Dixie\\'s slide into bankruptcy was widely expected. The company\\'s new chief executive Peter Lynch said Winn-Dixie would use the Chapter 11 breathing space to take the necessary action to turn itself around. \"This includes achieving significant cost reductions, improving the merchandising and customer service in all locations and generating a sense of excitement in the stores,\" he said. Yet Evan Mann, a senior bond analyst at Gimme Credit, said Mr Lynch\\'s job would not be easy, as the bankruptcy would inevitably put off some customers. \"The real big issue is what\\'s going to happen over the next one or two quarters now that they are in bankruptcy and all their customers see this in their local newspapers,\" he said.\\n',\n",
       " 'Sundance to honour foreign films\\n\\nInternational films will be given the same prominence as US films at next year\\'s Sundance Film Festival, with movies dominated by the theme of war.\\n\\nThe independent film festival will feature two new international cinema competitions, during its 20-30 January season in Utah. Forty-two films will debut at Sundance, including The Liberace of Baghdad by British director Sean McAllister. The prestigious festival was founded by actor Robert Redford in 1981.\\n\\n\"We have always had an international component, but from next year they will enter a jury competition,\" festival director Geoffrey Gilmore said. \"We wanted to give world cinema more emphasis and have now put it on par with the American dramatic and documentary competitions.\" Twelve films competing in the new world cinema documentary category focus on countries and people under siege.\\n\\nThe Liberace of Baghdad features an Iraqi pianist hiding in a hotel as he waits for a visa, while Finnish film The Three Rooms of Melancholia looks at the war in Chechnya. Shake Hands With The Devil: The Journey of Romeo Dallaire tells of a UN mission to Rwanda during the 1994 genocide, while French-Israeli production Wall looks at Israel\\'s controversial security wall separating it from the Palestinian territories. The 16 films competing in the new world cinema dramatic category include works from Germany, South Korea, Angola, China, Denmark and Australia.\\n\\nSeveral Hollywood stars feature in the festival\\'s American independent drama category, including Keanu Reeves and Benjamin Bratt. Vince Vaughn stars in quirky movie Thumbsucker while 21 Grams actress Naomi Watts plays a budding Hollywood actress in Ellie Parker. The top Grand Jury prize at this year\\'s festival went to low budget sci-fi thriller Primer, written and directed by Shane Carruth. Morgan Spurlock earned the directing award for Super Size Me, which became an international box office hit.\\n',\n",
       " 'Khodorkovsky ally denies charges\\n\\nA close associate of former Yukos boss Mikhail Khodorkovsky has told a court that fraud charges levelled against him are \"false\".\\n\\nPlaton Lebedev has been on trial alongside Mr Khodorkovsky since June in a case centring around the privatisation of a fertiliser firm. The pair claim they are being punished by the authorities for the political ambitions of Mr Khodorkovsky. Mr Lebedev said there were \"absurd contradictions\" in the case. Opening his defence, he said he could not see the legal basis of the charges he faced, which also include allegations of tax evasion. \"To my embarrassment, I could not understand the file of complaints against me,\" he told a Moscow court. Mr Lebedev headed the Menatep group, the parent company of Yukos.\\n\\nMr Lebedev and Mr Khodorkovsky, who each face a possible 10 year jail sentence if convicted, will be questioned by a judge over the next few days. Mr Khodorkovsky began his testimony last week, telling the court that he objected to the way that the \"running of a normal business has been presented as a work of criminal fiction\". The charges are seen by supporters as politically motivated and part of a drive by Russian President Vladimir Putin to rein in the country\\'s super-rich business leaders, the so-called oligarchs. Yukos has been presented with a $27.5bn (Â£13bn) tax demand by the Russian authorities and its key Yugansk division was auctioned off to part settle the bill. The company\\'s effort to gain bankruptcy protection in the US - in a bid to win damages for the sale - were dismissed by a court in Texas.\\n',\n",
       " 'I have a 42 yr old male friend, misdiagnosed as having\\n osteopporosis for two years, who recently found out that his\\n illness is the rare Gaucher\\'s disease. \\nGaucher\\'s disease symptoms include: brittle bones (he lost 9 \\n inches off his hieght); enlarged liver and spleen; internal\\n bleeding; and fatigue (all the time). The problem (in Type 1) is\\n attributed to a genetic mutation where there is a lack of the\\n enzyme glucocerebroside in macrophages so the cells swell up.\\n This will eventually cause death.\\nEnyzme replacement therapy has been successfully developed and\\n approved by the FDA in the last few years so that those patients\\n administered with this drug (called Ceredase) report a remarkable\\n improvement in their condition. Ceredase, which is manufactured\\n by biotech biggy company--Genzyme--costs the patient $380,000\\n per year. Gaucher\\'s disease has justifyably been called \"the most\\n expensive disease in the world\".\\nI have researched Gaucher\\'s disease at the library but am relying\\n on netlanders to provide me with any additional information:\\n**news, stories, reports\\n**people you know with this disease\\n**ideas, articles about Genzyme Corp, how to get a hold of\\n   enough money to buy some, programs available to help with\\n   costs.\\n**Basically ANY HELP YOU CAN OFFER\\nThanks so very much!\\nDeborah \\n',\n",
       " 'In <C5nF2r.KpJ@world.std.com> steveo@world.std.com (Steven W Orr) writes:\\n>I looked for diab in my .newsrc and came up with nuthin. Anyone have\\n>any good sources for where I can read?\\nCheck out the DIABETIC mailing list -- a knowledgable, helpful, friendly,\\nvoluminous bunch.  Send email to LISTSERV@PCCVM.BITNET, with this line\\nin the body:\\nSUBSCRIBE DIABETIC <your name here>\\nAlso, the vote for misc.health.diabetes, a newsgroup for general discussion\\nof diabetes, is currently underway, and will close on 29 April.  From the\\n2nd CFV, posted to news.announce.newgroups, news.groups, and sci.med,\\nmessage <1q1jshINN4v1@rodan.UU.NET>:\\n>To place a vote FOR the creation of misc.health.diabetes, send an\\n>email message to yes@sun6850.nrl.navy.mil\\n>To place a vote AGAINST creation of misc.health.diabetes, send an\\n>email message to no@sun6850.nrl.navy.mil\\n>The contents of the message should contain the line \"I vote\\n>for/against misc.health.diabetes as proposed\".  Email messages sent to\\n>the above addresses must constitute unambiguous and unconditional\\n>votes for/against newsgroup creation as proposed.  Conditional votes\\n>will not be accepted.  Only votes emailed to the above addresses will\\n>be counted; mailed replies to this posting will be returned.  In the\\n>event that more than one vote is placed by an individual, only the\\n>most recent vote will be counted.  One additional CFV will be posted\\n>during the course of the vote, along with an acknowledgment of those\\n>votes received to date.  No information will be supplied as to how\\n>people are voting until the final acknowledgment is made at the end,\\n>at which time the full vote will be made public.\\n>Voting will continue until 23:59 GMT, 29 Apr 93.\\n>Votes will not be accepted after this date.\\n>Any administrative inquiries pertaining to this CFV may be made by\\n>email to swkirch@sun6850.nrl.navy.mil\\n>The proposed charter appears below.\\n>Charter:  \\n>misc.health.diabetes                            unmoderated\\n>1.   The purpose of misc.health.diabetes is to provide a forum for the\\n>discussion of issues pertaining to diabetes management, i.e.: diet,\\n>activities, medicine schedules, blood glucose control, exercise,\\n>medical breakthroughs, etc.  This group addresses the issues of\\n>management of both Type I (insulin dependent) and Type II (non-insulin\\n>dependent) diabetes.  Both technical discussions and general support\\n>discussions relevant to diabetes are welcome.\\n>2.   Postings to misc.heath.diabetes are intended to be for discussion\\n>purposes only, and are in no way to be construed as medical advice.\\n>Diabetes is a serious medical condition requiring direct supervision\\n>by a primary health care physician.  \\n>-----(end of charter)-----\\n',\n",
       " 'Brookside actress Keaveney dies\\n\\nActress Anna Keaveney, who appeared in Brookside, My Family and A Touch of Frost, has died of lung cancer aged 55.\\n\\nKeaveney, who played Brookside\\'s Marie Jackson when the Channel 4 soap began in 1982, died on Saturday. Born in Runcorn, Cheshire, she also starred in numerous films including 1989\\'s Shirley Valentine. She played Nellie in Mike Leigh\\'s latest film Vera Drake, which won the Golden Lion prize for best film at this year\\'s Venice Film Festival.\\n\\nAnd most recently she appeared alongside Richard Wilson in ITV\\'s King of Fridges and with Martin Clunes in Doc Martin. Other TV appearances included the part of Matron in ITV drama Footballers\\' Wives and a cameo role as Tom Farrell\\'s mother Sheila in BBC comedy Gimme Gimme Gimme. Keaveney\\'s career also included stage performances in Neaptide for the National Theatre, Private Lives and The Rise and Fall of Little Voice. The actress died in hospital. Her agent Barry Brown said: \"Anna was due to have had another operation on Friday but unfortunately she was too weak.\"\\n']"
      ]
     },
     "execution_count": 12,
     "metadata": {},
     "output_type": "execute_result"
    }
   ],
   "source": [
    "docs"
   ]
  },
  {
   "cell_type": "code",
   "execution_count": 13,
   "id": "3187ffe1-0f6a-4a14-b06a-318aa1ecdeb4",
   "metadata": {},
   "outputs": [],
   "source": [
    "from sklearn.feature_extraction.text import TfidfVectorizer\n",
    "vectorizer = TfidfVectorizer()"
   ]
  },
  {
   "cell_type": "code",
   "execution_count": 14,
   "id": "5f7fd7da-64bf-40eb-8999-a5e6bdbe64c4",
   "metadata": {},
   "outputs": [],
   "source": [
    "X =vectorizer.fit_transform(docs)"
   ]
  },
  {
   "cell_type": "code",
   "execution_count": 15,
   "id": "8e415218-007e-47ec-8293-3820230cae70",
   "metadata": {},
   "outputs": [],
   "source": [
    "from sklearn.decomposition import TruncatedSVD\n",
    "lsa = TruncatedSVD(n_components=3,n_iter=100)"
   ]
  },
  {
   "cell_type": "code",
   "execution_count": 16,
   "id": "b851f22a-7e9a-4ce1-8d4b-74b73f9ea013",
   "metadata": {},
   "outputs": [
    {
     "data": {
      "text/html": [
       "<style>#sk-container-id-1 {color: black;}#sk-container-id-1 pre{padding: 0;}#sk-container-id-1 div.sk-toggleable {background-color: white;}#sk-container-id-1 label.sk-toggleable__label {cursor: pointer;display: block;width: 100%;margin-bottom: 0;padding: 0.3em;box-sizing: border-box;text-align: center;}#sk-container-id-1 label.sk-toggleable__label-arrow:before {content: \"▸\";float: left;margin-right: 0.25em;color: #696969;}#sk-container-id-1 label.sk-toggleable__label-arrow:hover:before {color: black;}#sk-container-id-1 div.sk-estimator:hover label.sk-toggleable__label-arrow:before {color: black;}#sk-container-id-1 div.sk-toggleable__content {max-height: 0;max-width: 0;overflow: hidden;text-align: left;background-color: #f0f8ff;}#sk-container-id-1 div.sk-toggleable__content pre {margin: 0.2em;color: black;border-radius: 0.25em;background-color: #f0f8ff;}#sk-container-id-1 input.sk-toggleable__control:checked~div.sk-toggleable__content {max-height: 200px;max-width: 100%;overflow: auto;}#sk-container-id-1 input.sk-toggleable__control:checked~label.sk-toggleable__label-arrow:before {content: \"▾\";}#sk-container-id-1 div.sk-estimator input.sk-toggleable__control:checked~label.sk-toggleable__label {background-color: #d4ebff;}#sk-container-id-1 div.sk-label input.sk-toggleable__control:checked~label.sk-toggleable__label {background-color: #d4ebff;}#sk-container-id-1 input.sk-hidden--visually {border: 0;clip: rect(1px 1px 1px 1px);clip: rect(1px, 1px, 1px, 1px);height: 1px;margin: -1px;overflow: hidden;padding: 0;position: absolute;width: 1px;}#sk-container-id-1 div.sk-estimator {font-family: monospace;background-color: #f0f8ff;border: 1px dotted black;border-radius: 0.25em;box-sizing: border-box;margin-bottom: 0.5em;}#sk-container-id-1 div.sk-estimator:hover {background-color: #d4ebff;}#sk-container-id-1 div.sk-parallel-item::after {content: \"\";width: 100%;border-bottom: 1px solid gray;flex-grow: 1;}#sk-container-id-1 div.sk-label:hover label.sk-toggleable__label {background-color: #d4ebff;}#sk-container-id-1 div.sk-serial::before {content: \"\";position: absolute;border-left: 1px solid gray;box-sizing: border-box;top: 0;bottom: 0;left: 50%;z-index: 0;}#sk-container-id-1 div.sk-serial {display: flex;flex-direction: column;align-items: center;background-color: white;padding-right: 0.2em;padding-left: 0.2em;position: relative;}#sk-container-id-1 div.sk-item {position: relative;z-index: 1;}#sk-container-id-1 div.sk-parallel {display: flex;align-items: stretch;justify-content: center;background-color: white;position: relative;}#sk-container-id-1 div.sk-item::before, #sk-container-id-1 div.sk-parallel-item::before {content: \"\";position: absolute;border-left: 1px solid gray;box-sizing: border-box;top: 0;bottom: 0;left: 50%;z-index: -1;}#sk-container-id-1 div.sk-parallel-item {display: flex;flex-direction: column;z-index: 1;position: relative;background-color: white;}#sk-container-id-1 div.sk-parallel-item:first-child::after {align-self: flex-end;width: 50%;}#sk-container-id-1 div.sk-parallel-item:last-child::after {align-self: flex-start;width: 50%;}#sk-container-id-1 div.sk-parallel-item:only-child::after {width: 0;}#sk-container-id-1 div.sk-dashed-wrapped {border: 1px dashed gray;margin: 0 0.4em 0.5em 0.4em;box-sizing: border-box;padding-bottom: 0.4em;background-color: white;}#sk-container-id-1 div.sk-label label {font-family: monospace;font-weight: bold;display: inline-block;line-height: 1.2em;}#sk-container-id-1 div.sk-label-container {text-align: center;}#sk-container-id-1 div.sk-container {/* jupyter's `normalize.less` sets `[hidden] { display: none; }` but bootstrap.min.css set `[hidden] { display: none !important; }` so we also need the `!important` here to be able to override the default hidden behavior on the sphinx rendered scikit-learn.org. See: https://github.com/scikit-learn/scikit-learn/issues/21755 */display: inline-block !important;position: relative;}#sk-container-id-1 div.sk-text-repr-fallback {display: none;}</style><div id=\"sk-container-id-1\" class=\"sk-top-container\"><div class=\"sk-text-repr-fallback\"><pre>TruncatedSVD(n_components=3, n_iter=100)</pre><b>In a Jupyter environment, please rerun this cell to show the HTML representation or trust the notebook. <br />On GitHub, the HTML representation is unable to render, please try loading this page with nbviewer.org.</b></div><div class=\"sk-container\" hidden><div class=\"sk-item\"><div class=\"sk-estimator sk-toggleable\"><input class=\"sk-toggleable__control sk-hidden--visually\" id=\"sk-estimator-id-1\" type=\"checkbox\" checked><label for=\"sk-estimator-id-1\" class=\"sk-toggleable__label sk-toggleable__label-arrow\">TruncatedSVD</label><div class=\"sk-toggleable__content\"><pre>TruncatedSVD(n_components=3, n_iter=100)</pre></div></div></div></div></div>"
      ],
      "text/plain": [
       "TruncatedSVD(n_components=3, n_iter=100)"
      ]
     },
     "execution_count": 16,
     "metadata": {},
     "output_type": "execute_result"
    }
   ],
   "source": [
    "lsa.fit(X)"
   ]
  },
  {
   "cell_type": "code",
   "execution_count": 17,
   "id": "e2f4fa8d-a7db-4cb7-9a88-601f1fe37aae",
   "metadata": {},
   "outputs": [
    {
     "data": {
      "text/html": [
       "<style>#sk-container-id-2 {color: black;}#sk-container-id-2 pre{padding: 0;}#sk-container-id-2 div.sk-toggleable {background-color: white;}#sk-container-id-2 label.sk-toggleable__label {cursor: pointer;display: block;width: 100%;margin-bottom: 0;padding: 0.3em;box-sizing: border-box;text-align: center;}#sk-container-id-2 label.sk-toggleable__label-arrow:before {content: \"▸\";float: left;margin-right: 0.25em;color: #696969;}#sk-container-id-2 label.sk-toggleable__label-arrow:hover:before {color: black;}#sk-container-id-2 div.sk-estimator:hover label.sk-toggleable__label-arrow:before {color: black;}#sk-container-id-2 div.sk-toggleable__content {max-height: 0;max-width: 0;overflow: hidden;text-align: left;background-color: #f0f8ff;}#sk-container-id-2 div.sk-toggleable__content pre {margin: 0.2em;color: black;border-radius: 0.25em;background-color: #f0f8ff;}#sk-container-id-2 input.sk-toggleable__control:checked~div.sk-toggleable__content {max-height: 200px;max-width: 100%;overflow: auto;}#sk-container-id-2 input.sk-toggleable__control:checked~label.sk-toggleable__label-arrow:before {content: \"▾\";}#sk-container-id-2 div.sk-estimator input.sk-toggleable__control:checked~label.sk-toggleable__label {background-color: #d4ebff;}#sk-container-id-2 div.sk-label input.sk-toggleable__control:checked~label.sk-toggleable__label {background-color: #d4ebff;}#sk-container-id-2 input.sk-hidden--visually {border: 0;clip: rect(1px 1px 1px 1px);clip: rect(1px, 1px, 1px, 1px);height: 1px;margin: -1px;overflow: hidden;padding: 0;position: absolute;width: 1px;}#sk-container-id-2 div.sk-estimator {font-family: monospace;background-color: #f0f8ff;border: 1px dotted black;border-radius: 0.25em;box-sizing: border-box;margin-bottom: 0.5em;}#sk-container-id-2 div.sk-estimator:hover {background-color: #d4ebff;}#sk-container-id-2 div.sk-parallel-item::after {content: \"\";width: 100%;border-bottom: 1px solid gray;flex-grow: 1;}#sk-container-id-2 div.sk-label:hover label.sk-toggleable__label {background-color: #d4ebff;}#sk-container-id-2 div.sk-serial::before {content: \"\";position: absolute;border-left: 1px solid gray;box-sizing: border-box;top: 0;bottom: 0;left: 50%;z-index: 0;}#sk-container-id-2 div.sk-serial {display: flex;flex-direction: column;align-items: center;background-color: white;padding-right: 0.2em;padding-left: 0.2em;position: relative;}#sk-container-id-2 div.sk-item {position: relative;z-index: 1;}#sk-container-id-2 div.sk-parallel {display: flex;align-items: stretch;justify-content: center;background-color: white;position: relative;}#sk-container-id-2 div.sk-item::before, #sk-container-id-2 div.sk-parallel-item::before {content: \"\";position: absolute;border-left: 1px solid gray;box-sizing: border-box;top: 0;bottom: 0;left: 50%;z-index: -1;}#sk-container-id-2 div.sk-parallel-item {display: flex;flex-direction: column;z-index: 1;position: relative;background-color: white;}#sk-container-id-2 div.sk-parallel-item:first-child::after {align-self: flex-end;width: 50%;}#sk-container-id-2 div.sk-parallel-item:last-child::after {align-self: flex-start;width: 50%;}#sk-container-id-2 div.sk-parallel-item:only-child::after {width: 0;}#sk-container-id-2 div.sk-dashed-wrapped {border: 1px dashed gray;margin: 0 0.4em 0.5em 0.4em;box-sizing: border-box;padding-bottom: 0.4em;background-color: white;}#sk-container-id-2 div.sk-label label {font-family: monospace;font-weight: bold;display: inline-block;line-height: 1.2em;}#sk-container-id-2 div.sk-label-container {text-align: center;}#sk-container-id-2 div.sk-container {/* jupyter's `normalize.less` sets `[hidden] { display: none; }` but bootstrap.min.css set `[hidden] { display: none !important; }` so we also need the `!important` here to be able to override the default hidden behavior on the sphinx rendered scikit-learn.org. See: https://github.com/scikit-learn/scikit-learn/issues/21755 */display: inline-block !important;position: relative;}#sk-container-id-2 div.sk-text-repr-fallback {display: none;}</style><div id=\"sk-container-id-2\" class=\"sk-top-container\"><div class=\"sk-text-repr-fallback\"><pre>TruncatedSVD(n_components=3, n_iter=100)</pre><b>In a Jupyter environment, please rerun this cell to show the HTML representation or trust the notebook. <br />On GitHub, the HTML representation is unable to render, please try loading this page with nbviewer.org.</b></div><div class=\"sk-container\" hidden><div class=\"sk-item\"><div class=\"sk-estimator sk-toggleable\"><input class=\"sk-toggleable__control sk-hidden--visually\" id=\"sk-estimator-id-2\" type=\"checkbox\" checked><label for=\"sk-estimator-id-2\" class=\"sk-toggleable__label sk-toggleable__label-arrow\">TruncatedSVD</label><div class=\"sk-toggleable__content\"><pre>TruncatedSVD(n_components=3, n_iter=100)</pre></div></div></div></div></div>"
      ],
      "text/plain": [
       "TruncatedSVD(n_components=3, n_iter=100)"
      ]
     },
     "execution_count": 17,
     "metadata": {},
     "output_type": "execute_result"
    }
   ],
   "source": [
    "TruncatedSVD(algorithm='randomized', n_components=3, n_iter=100,\n",
    "       random_state=None, tol=0.0)\n"
   ]
  },
  {
   "cell_type": "code",
   "execution_count": 19,
   "id": "7f0a9693-5521-4c26-a280-f725ebdbbf5e",
   "metadata": {},
   "outputs": [],
   "source": [
    "terms = vectorizer.get_feature_names_out()"
   ]
  },
  {
   "cell_type": "code",
   "execution_count": 20,
   "id": "525f7373-d5a8-4ea4-b15d-94d54eb44963",
   "metadata": {},
   "outputs": [
    {
     "name": "stdout",
     "output_type": "stream",
     "text": [
      "Concept 0:\n",
      "the\n",
      "in\n",
      "of\n",
      "to\n",
      "and\n",
      "by\n",
      "disease\n",
      "will\n",
      "diabetes\n",
      "mr\n",
      " \n",
      "Concept 1:\n",
      "keaveney\n",
      "she\n",
      "in\n",
      "brookside\n",
      "died\n",
      "film\n",
      "actress\n",
      "gimme\n",
      "anna\n",
      "appeared\n",
      " \n",
      "Concept 2:\n",
      "dixie\n",
      "winn\n",
      "would\n",
      "bankruptcy\n",
      "said\n",
      "it\n",
      "stores\n",
      "its\n",
      "us\n",
      "11\n",
      " \n"
     ]
    }
   ],
   "source": [
    "\n",
    "for i,comp in enumerate(lsa.components_):\n",
    "    termsInComp = zip(terms,comp)\n",
    "    sortedterms = sorted(termsInComp, key=lambda x: x[1],reverse=True)[:10]\n",
    "    print(\"Concept %d:\" % i)\n",
    "    for term in sortedterms:\n",
    "        print(term[0])\n",
    "    print(\" \")"
   ]
  },
  {
   "cell_type": "code",
   "execution_count": null,
   "id": "ff7cda63-eb77-4982-8e80-076b32e5fce2",
   "metadata": {},
   "outputs": [],
   "source": []
  }
 ],
 "metadata": {
  "kernelspec": {
   "display_name": "Python 3 (ipykernel)",
   "language": "python",
   "name": "python3"
  },
  "language_info": {
   "codemirror_mode": {
    "name": "ipython",
    "version": 3
   },
   "file_extension": ".py",
   "mimetype": "text/x-python",
   "name": "python",
   "nbconvert_exporter": "python",
   "pygments_lexer": "ipython3",
   "version": "3.9.18"
  }
 },
 "nbformat": 4,
 "nbformat_minor": 5
}
